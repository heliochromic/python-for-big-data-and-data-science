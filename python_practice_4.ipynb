{
 "nbformat": 4,
 "nbformat_minor": 0,
 "metadata": {
  "colab": {
   "provenance": []
  },
  "kernelspec": {
   "name": "python3",
   "language": "python",
   "display_name": "Python 3 (ipykernel)"
  },
  "language_info": {
   "name": "python"
  }
 },
 "cells": [
  {
   "cell_type": "markdown",
   "source": [
    "# I. Functions. Arguments."
   ],
   "metadata": {
    "id": "kXpppdVm6wFy"
   }
  },
  {
   "cell_type": "markdown",
   "source": [
    "1. (5б) Назвіть основні 4 смислові  частини, з яких складається функція."
   ],
   "metadata": {
    "id": "u_krJdlbAkVz"
   }
  },
  {
   "cell_type": "markdown",
   "source": [
    "ім'я, аргументи, тіло, повернення"
   ],
   "metadata": {
    "id": "KKTrTXmHAptb"
   }
  },
  {
   "cell_type": "markdown",
   "source": [
    "2. (3б) Визначте функцію, що приймає 2 аргументи та повертає результат ділення 1го аргумента на інший."
   ],
   "metadata": {
    "id": "ORM4PqJQAtDM"
   }
  },
  {
   "cell_type": "code",
   "execution_count": 12,
   "metadata": {
    "id": "EuDx-z8M6sLo",
    "ExecuteTime": {
     "end_time": "2024-02-27T08:20:29.508604500Z",
     "start_time": "2024-02-27T08:20:29.495524100Z"
    }
   },
   "outputs": [],
   "source": [
    "def floor_division(dividend: int, divisor: int) -> int:\n",
    "    return dividend // divisor"
   ]
  },
  {
   "cell_type": "markdown",
   "source": [
    "3. (2б) Викличте вище визначену функцію, де другий аргумент дорівнює 0."
   ],
   "metadata": {
    "id": "5joQGQ-SAyMe"
   }
  },
  {
   "cell_type": "code",
   "source": [
    "floor_division(17, 0)"
   ],
   "metadata": {
    "id": "V5cBV1LOA3d-",
    "ExecuteTime": {
     "end_time": "2024-02-27T08:20:30.258682800Z",
     "start_time": "2024-02-27T08:20:30.232538700Z"
    }
   },
   "execution_count": 13,
   "outputs": [
    {
     "ename": "ZeroDivisionError",
     "evalue": "integer division or modulo by zero",
     "output_type": "error",
     "traceback": [
      "\u001B[1;31m---------------------------------------------------------------------------\u001B[0m",
      "\u001B[1;31mZeroDivisionError\u001B[0m                         Traceback (most recent call last)",
      "Cell \u001B[1;32mIn[13], line 1\u001B[0m\n\u001B[1;32m----> 1\u001B[0m \u001B[43mfloor_division\u001B[49m\u001B[43m(\u001B[49m\u001B[38;5;241;43m17\u001B[39;49m\u001B[43m,\u001B[49m\u001B[43m \u001B[49m\u001B[38;5;241;43m0\u001B[39;49m\u001B[43m)\u001B[49m\n",
      "Cell \u001B[1;32mIn[12], line 2\u001B[0m, in \u001B[0;36mfloor_division\u001B[1;34m(dividend, divisor)\u001B[0m\n\u001B[0;32m      1\u001B[0m \u001B[38;5;28;01mdef\u001B[39;00m \u001B[38;5;21mfloor_division\u001B[39m(dividend: \u001B[38;5;28mint\u001B[39m, divisor: \u001B[38;5;28mint\u001B[39m) \u001B[38;5;241m-\u001B[39m\u001B[38;5;241m>\u001B[39m \u001B[38;5;28mint\u001B[39m:\n\u001B[1;32m----> 2\u001B[0m     \u001B[38;5;28;01mreturn\u001B[39;00m \u001B[43mdividend\u001B[49m\u001B[43m \u001B[49m\u001B[38;5;241;43m/\u001B[39;49m\u001B[38;5;241;43m/\u001B[39;49m\u001B[43m \u001B[49m\u001B[43mdivisor\u001B[49m\n",
      "\u001B[1;31mZeroDivisionError\u001B[0m: integer division or modulo by zero"
     ]
    }
   ]
  },
  {
   "cell_type": "markdown",
   "source": [
    "4. (4б) Перевизначте функцію так, щоби у випадку ділення на 0 функція повертала None, а в решті випадків - результат розрахунків."
   ],
   "metadata": {
    "id": "QyimWgW8A43-"
   }
  },
  {
   "cell_type": "code",
   "outputs": [
    {
     "data": {
      "text/plain": "(None, 3)"
     },
     "execution_count": 14,
     "metadata": {},
     "output_type": "execute_result"
    }
   ],
   "source": [
    "def floor_division(dividend: int, divisor: int) -> int | None:\n",
    "    if divisor == 0:\n",
    "        return None\n",
    "    return dividend // divisor\n",
    "\n",
    "\n",
    "floor_division(17, 0), floor_division(17, 5)"
   ],
   "metadata": {
    "collapsed": false,
    "ExecuteTime": {
     "end_time": "2024-02-27T08:20:31.103990400Z",
     "start_time": "2024-02-27T08:20:31.063129500Z"
    }
   },
   "execution_count": 14
  },
  {
   "cell_type": "markdown",
   "source": [
    "5. (5б) Визначте функцію, що віднімає одне число від іншого (підказка: це буде 2 аргументи функції). При чому, якщо не визначити, скільки саме має бути віднято від числа, за замовчуванням має відніматися 1. Викличте функцію, передаючи тільки один аргумент."
   ],
   "metadata": {
    "id": "Y8mN0GfkA81l"
   }
  },
  {
   "cell_type": "code",
   "source": [
    "def subtract(minuend: int, subtrahend: int = 1) -> int:\n",
    "    return minuend - subtrahend\n",
    "\n",
    "\n",
    "subtract(17, 12), subtract(17)"
   ],
   "metadata": {
    "id": "vg1kxkdgBA50",
    "ExecuteTime": {
     "end_time": "2024-02-27T08:20:39.950084600Z",
     "start_time": "2024-02-27T08:20:39.913322Z"
    }
   },
   "execution_count": 15,
   "outputs": [
    {
     "data": {
      "text/plain": "(5, 16)"
     },
     "execution_count": 15,
     "metadata": {},
     "output_type": "execute_result"
    }
   ]
  },
  {
   "cell_type": "markdown",
   "source": [
    "6. (7б) Визначте функцію, яка приймає iterable (ітерабельний обʼєкт, напр. список), що складається з 7ми рядкових значень - назв погодних умов (напр. \"sunny\") за кожен день у тижні. Повертає функція словник, де ключами є рядки з погодними умовами, а значеннями - кількість разів, скільки дана погода була протягом тижня (напр. {'sunny': 1, ...}). Викличте цю функцію та виведіть результат її роботи на екран."
   ],
   "metadata": {
    "id": "D3mwQGNOBBs4"
   }
  },
  {
   "cell_type": "code",
   "source": [
    "weather = ['sunny', 'sunny', 'cloudy', 'windy', 'rainy', 'cloudy', 'foggy']\n",
    "\n",
    "\n",
    "def weather_conditions_counter(weather_conditions: list) -> dict:\n",
    "    count = {}\n",
    "\n",
    "    for conditions in weather_conditions:\n",
    "        count[conditions] = count.get(conditions, 0) + 1\n",
    "        \n",
    "    return count\n",
    "\n",
    "weather_conditions_counter(weather)"
   ],
   "metadata": {
    "id": "OsWm-hKcBFyn",
    "ExecuteTime": {
     "end_time": "2024-02-27T08:20:39.999957900Z",
     "start_time": "2024-02-27T08:20:39.955631200Z"
    }
   },
   "execution_count": 16,
   "outputs": [
    {
     "data": {
      "text/plain": "{'sunny': 2, 'cloudy': 2, 'windy': 1, 'rainy': 1, 'foggy': 1}"
     },
     "execution_count": 16,
     "metadata": {},
     "output_type": "execute_result"
    }
   ]
  },
  {
   "cell_type": "markdown",
   "source": [
    "7. (15б) Напишіть програму, яка б шукала необхідне число у впорядкованому списку цілочислених значень, де\n",
    "число має вводитись з консолі.\n",
    "власне алгоритм пошуку винесений в окрему функцію, яка повертає булеве значення (знайдено число - True, не знайдено - False).\n",
    "в залежності від результату функції, виведіть на екран повідомлення про успішний або ж неуспішний пошук.\n",
    "Зауваження: використовувати оператор in заборонено."
   ],
   "metadata": {
    "id": "RMiCcdOsBKQT"
   }
  },
  {
   "cell_type": "code",
   "source": [
    "import random\n",
    "\n",
    "def binary_search(arr: list, x: int) -> bool:\n",
    "    print(f'list of numbers: {random_numbers}\\nsearching number: {searching_number}')\n",
    "    low, high = 0, len(arr) - 1\n",
    " \n",
    "    while low <= high:\n",
    "        mid = (high + low) // 2\n",
    "        if arr[mid] < x:\n",
    "            low = mid + 1\n",
    "        elif arr[mid] > x:\n",
    "            high = mid - 1\n",
    "        else:\n",
    "            return True\n",
    "        \n",
    "    return False\n",
    "\n",
    "random_numbers = sorted(random.randint(0, 30) for _ in range(20))\n",
    "searching_number = 10\n",
    "\n",
    "print(binary_search(random_numbers, searching_number))"
   ],
   "metadata": {
    "id": "UNCZg65OBOy-",
    "ExecuteTime": {
     "end_time": "2024-02-27T08:20:40.037181300Z",
     "start_time": "2024-02-27T08:20:40.005474800Z"
    }
   },
   "execution_count": 17,
   "outputs": [
    {
     "name": "stdout",
     "output_type": "stream",
     "text": [
      "list of numbers: [0, 3, 10, 12, 12, 13, 16, 18, 22, 24, 25, 26, 26, 26, 27, 29, 29, 29, 30, 30]\n",
      "searching number: 10\n",
      "True\n"
     ]
    }
   ]
  },
  {
   "cell_type": "markdown",
   "source": [
    "# II. Lambda functions."
   ],
   "metadata": {
    "id": "Ae1n_OvLBTsy"
   }
  },
  {
   "cell_type": "markdown",
   "source": [
    "8. (4б) В яких випадках варто використовувати лямбда-функції?"
   ],
   "metadata": {
    "id": "xaD_wSlaCWen"
   }
  },
  {
   "cell_type": "markdown",
   "source": [
    "Їх зазвичай використовують, коли треба створити малу функцію, яку далі слід передавати до інших функції, як `map()`, `filter()`, `sorted()`, їх можна створювати як за межами цих функцій, так безпосередньо і в місці для визначення аргументів."
   ],
   "metadata": {
    "id": "42MB6OoLCakR"
   }
  },
  {
   "cell_type": "markdown",
   "source": [
    "9. (9б) Визначте список з рядками. Після цього визначте анонімну функцію для отримання першого символу у верхньому регістрі для кожного рядка списку.\n",
    "Підказка: використовуйте анонімну функцію в якості агрумента до вбудованої ф-ції, яка створена для застосування функцій над iterable обʼєктами. Результат виведіть на екран у вигляді кортежу."
   ],
   "metadata": {
    "id": "USrzrk7GCedk"
   }
  },
  {
   "cell_type": "code",
   "source": [
    "sentence_list = [\"Apple is a fruit.\", \"Banana is yellow.\", \"Cherry is red.\", \"Date is a sweet fruit.\", \"Elderberry has antioxidants.\", \"Fig is a unique fruit.\", \"Grapes can be red or green.\", \"Honeydew is a refreshing melon.\", \"Kiwi is rich in vitamin C.\", \"Lemon is sour and citrusy.\"]\n",
    "\n",
    "\n",
    "capital = lambda x : x[0]\n",
    "\n",
    "new_sentence_list = list(map(capital, sentence_list))\n",
    "new_sentence_list"
   ],
   "metadata": {
    "id": "M8QWUsMlCjWH",
    "ExecuteTime": {
     "end_time": "2024-02-27T08:20:40.152134400Z",
     "start_time": "2024-02-27T08:20:40.042139700Z"
    }
   },
   "execution_count": 18,
   "outputs": [
    {
     "data": {
      "text/plain": "['A', 'B', 'C', 'D', 'E', 'F', 'G', 'H', 'K', 'L']"
     },
     "execution_count": 18,
     "metadata": {},
     "output_type": "execute_result"
    }
   ]
  },
  {
   "cell_type": "markdown",
   "source": [
    "10. (10б) Визначте список з числовими значеннями (і цілими, і з рухомою комою). а) Відфільтруйте всі числа, які діляться націло на 3 за допомогою вбудованої функції та анонімної функції в якості аргумента). Збережіть результат у змінній, не приводячи явно до будь-якого типу. б) Використовуючи результат на кроці 12.а у якості аргументу, та за допомогою лямбда-функції в якості іншого аргументу до вбудованої функції, додайте до кожного елементу число 1 та опісля зведіть у квадрат. Остаточний результат приведіть явно до списку та виведіть на екран."
   ],
   "metadata": {
    "id": "9fyUhXOoCtGp"
   }
  },
  {
   "cell_type": "code",
   "source": [
    "numbers = [41.235, 63, 23, 90, 36, 31.877, 87, 91, 15.289, 9, 76.4, 32, 63.035, 94.589, 38.239, 20.89, 10.475, 31.694, 98, 64]\n",
    "\n",
    "# 10.a filter\n",
    "filtered_numbers = filter(lambda x: x % 3 == 0, numbers) # [63, 90, 36, 87, 9]\n",
    "\n",
    "# 10.b map\n",
    "squared_increment = list(map(lambda x: (x + 1) ** 2, filtered_numbers))\n",
    "\n",
    "squared_increment"
   ],
   "metadata": {
    "id": "exEx2_okCsql",
    "ExecuteTime": {
     "end_time": "2024-02-27T08:20:40.205738800Z",
     "start_time": "2024-02-27T08:20:40.117317Z"
    }
   },
   "execution_count": 19,
   "outputs": [
    {
     "data": {
      "text/plain": "[4096, 8281, 1369, 7744, 100]"
     },
     "execution_count": 19,
     "metadata": {},
     "output_type": "execute_result"
    }
   ]
  },
  {
   "cell_type": "markdown",
   "source": [
    "# III. Decorators."
   ],
   "metadata": {
    "id": "o_x8cG_WC7jp"
   }
  },
  {
   "cell_type": "markdown",
   "source": [
    "11. (11б) Визначте декоратор, який би виводив у консоль повідомлення про початок роботи і назву функції (напр. my_function._ _ name _ _), а після відпрацювання функції - повідомлення про закінчення роботи і назву функції, що задекорована."
   ],
   "metadata": {
    "id": "mhxS4-mfC8LQ"
   }
  },
  {
   "cell_type": "code",
   "source": [
    "def function_info(func):\n",
    "    def wrapper(*args, **kwargs):\n",
    "        print(f\"function {func.__name__} started\")\n",
    "        result = func(*args, **kwargs)\n",
    "        print(f\"function {func.__name__} stopped\")\n",
    "        return result\n",
    "    return wrapper"
   ],
   "metadata": {
    "id": "srd1ygWjDGhO",
    "ExecuteTime": {
     "end_time": "2024-02-27T08:20:40.256395800Z",
     "start_time": "2024-02-27T08:20:40.214156300Z"
    }
   },
   "execution_count": 20,
   "outputs": []
  },
  {
   "cell_type": "markdown",
   "source": [
    "12. (4б) Задекоруйте двома різними способами функції з завдання 4 та 5 декоратором із завдання 11. (**УВАГА**: не декоруйте функції двічі!)."
   ],
   "metadata": {
    "id": "rxGZwVBiDph3"
   }
  },
  {
   "cell_type": "code",
   "source": [
    "floor_division = function_info(floor_division)\n",
    "\n",
    "@function_info\n",
    "def subtract(minuend: int, subtrahend: int = 1) -> int:\n",
    "    return minuend - subtrahend"
   ],
   "metadata": {
    "id": "06lj7eq_DwZe",
    "ExecuteTime": {
     "end_time": "2024-02-27T08:20:40.312570500Z",
     "start_time": "2024-02-27T08:20:40.239990500Z"
    }
   },
   "execution_count": 21,
   "outputs": []
  },
  {
   "cell_type": "markdown",
   "source": [
    "13. (2б) Викличте одну з задекорованих функцій і виведіть її результат на екран."
   ],
   "metadata": {
    "id": "P0ep1urBDzf-"
   }
  },
  {
   "cell_type": "code",
   "source": [
    "floor_division(17, 4)"
   ],
   "metadata": {
    "id": "1QvTw0ctD0S3",
    "ExecuteTime": {
     "end_time": "2024-02-27T08:20:40.342805200Z",
     "start_time": "2024-02-27T08:20:40.315872600Z"
    }
   },
   "execution_count": 22,
   "outputs": [
    {
     "name": "stdout",
     "output_type": "stream",
     "text": [
      "function floor_division started\n",
      "function floor_division stopped\n"
     ]
    },
    {
     "data": {
      "text/plain": "4"
     },
     "execution_count": 22,
     "metadata": {},
     "output_type": "execute_result"
    }
   ]
  },
  {
   "cell_type": "markdown",
   "source": [
    "# IV. Recursion."
   ],
   "metadata": {
    "id": "poECCpuoD2S9"
   }
  },
  {
   "cell_type": "markdown",
   "source": [
    "14. (4б) Назвіть дві частини функції, які є обовʼязковими для того, щоб називати її рекурсивною."
   ],
   "metadata": {
    "id": "DqkURfdsD7MY"
   }
  },
  {
   "cell_type": "markdown",
   "source": [
    "виклик самої себе та місце виходу (базовий випадок)"
   ],
   "metadata": {
    "id": "HYW6ttIeIQIU"
   }
  },
  {
   "cell_type": "markdown",
   "source": [
    "15. (15б) Визначте функцію, яка рекурсивно реалізовує пошук числа у послідовності Фібоначчі за її індексом (нумерація починається з нуля). Наприклад, потрібно знайти перше число у послідовності, тоді функція прийматиме 0 у якості аргумента і повертатиме 1, якщо ж знаходити третє число (індекс 2) послідовності, то функція повертатиме 2, якщо ж знаходити десяте число (індекс 9), то функція повертатиме 55."
   ],
   "metadata": {
    "id": "WYVt20UmEA35"
   }
  },
  {
   "cell_type": "code",
   "source": [
    "def fibonacci_of(n):\n",
    "    return 1 if n == 0 or n == 1 else fibonacci_of(n - 1) + fibonacci_of(n - 2)\n",
    "\n",
    "fibonacci_of(0), fibonacci_of(2), fibonacci_of(9)"
   ],
   "metadata": {
    "id": "xIMhp05AIpV_",
    "ExecuteTime": {
     "end_time": "2024-02-27T08:20:40.377971700Z",
     "start_time": "2024-02-27T08:20:40.346168800Z"
    }
   },
   "execution_count": 23,
   "outputs": [
    {
     "data": {
      "text/plain": "(1, 2, 55)"
     },
     "execution_count": 23,
     "metadata": {},
     "output_type": "execute_result"
    }
   ]
  },
  {
   "cell_type": "markdown",
   "source": [
    "# Вітаю! Ви велика(ий) молодець, що впоралась(вся). Похваліть себе та побалуйте чимось приємним. Я Вами пишаюся."
   ],
   "metadata": {
    "id": "ytXC8n_4Ip0W"
   }
  }
 ]
}
