{
 "nbformat": 4,
 "nbformat_minor": 0,
 "metadata": {
  "colab": {
   "provenance": []
  },
  "kernelspec": {
   "name": "python3",
   "language": "python",
   "display_name": "Python 3 (ipykernel)"
  },
  "language_info": {
   "name": "python"
  }
 },
 "cells": [
  {
   "cell_type": "markdown",
   "source": [
    "# I. OOP"
   ],
   "metadata": {
    "id": "5qV_sehzFCTp"
   }
  },
  {
   "cell_type": "markdown",
   "source": [
    "1. (6б). Створіть клас Animal, додайте три атрибути, один з яких має значення за замовчуванням та два методи на свій розсуд."
   ],
   "metadata": {
    "id": "tx_U_hOALyfg"
   }
  },
  {
   "cell_type": "code",
   "source": [
    "class Animal:\n",
    "    def __init__(self, animal_type, name, age=0):\n",
    "        self.animal_type: str = animal_type\n",
    "        self.name: str = name\n",
    "        self.age: int = age\n",
    "\n",
    "    def birthday(self):\n",
    "        self.age += 1\n",
    "\n",
    "    def who_am_i(self):  # this should be __str__() method but i don't know if I could use it\n",
    "        return f\"I'm {self.animal_type} with name {self.name} and I'm {self.age} years old\""
   ],
   "metadata": {
    "id": "-Vf895KaL88N",
    "ExecuteTime": {
     "end_time": "2024-02-27T19:47:03.563469700Z",
     "start_time": "2024-02-27T19:47:03.497302800Z"
    }
   },
   "execution_count": 4,
   "outputs": []
  },
  {
   "cell_type": "markdown",
   "source": [
    "2. (2б). Створіть два обʼєкти цього класу, де один з обʼєктів створюється із дефолтним значенням атрибуту. На одному обʼєкті отримайте значення його атрибуту, а на іншому викличте один з його методів."
   ],
   "metadata": {
    "id": "X_UlOMB0L93w"
   }
  },
  {
   "cell_type": "code",
   "source": [
    "fish = Animal(\"fish\", \"Michael Jordan\", 1)\n",
    "dog = Animal(\"dog\", \"Sirko\", 5)\n",
    "\n",
    "print(f\"I'm just a {fish.animal_type}\")\n",
    "print(dog.who_am_i())"
   ],
   "metadata": {
    "id": "7gBu0ESOMCpG",
    "ExecuteTime": {
     "end_time": "2024-02-27T19:47:03.583316300Z",
     "start_time": "2024-02-27T19:47:03.566733100Z"
    }
   },
   "execution_count": 5,
   "outputs": [
    {
     "name": "stdout",
     "output_type": "stream",
     "text": [
      "I'm just a fish\n",
      "I'm dog with name Sirko and I'm 5 years old\n"
     ]
    }
   ]
  },
  {
   "cell_type": "markdown",
   "source": [
    "3. (5б). Створіть клас, де атрибути мають різні рівні доступу. Спробуйте отримати їхні значення та опишіть результати."
   ],
   "metadata": {
    "id": "HoqSCZt1MHn5"
   }
  },
  {
   "cell_type": "code",
   "source": [
    "class MessangerUser:\n",
    "    def __init__(self, name, tag, profile_photo, phone_number):\n",
    "        self.name: str = name\n",
    "        self.tag: str = tag\n",
    "        self._profile_photo: str = profile_photo  # link to photo\n",
    "        self.__phone_number: str = phone_number\n",
    "\n",
    "    def get_user_info(self):\n",
    "        return f\"Name: {self.name}\\nTag:  {self.tag}\\nPhoto:{self._profile_photo}\\nPhone:{self.__phone_number}\"\n",
    "\n",
    "\n",
    "zelenskyy_official = MessangerUser(\"Володимир Зеленський\",\n",
    "                                   \"zelenskyy_official\",\n",
    "                                   \"https://encrypted-tbn0.gstatic.com/licensed-image?q=tbn:ANd9GcRMhtQLV17Y8GVXGfmJCiklst_z4dG3hlCpMUN2WNNYNZHfQY7u49bzIZpMLbE_rFXANcfkZHE8Pr05fJ8\",\n",
    "                                   \"095-040-20-19\")\n",
    "\n",
    "print(zelenskyy_official.get_user_info())\n",
    "\n",
    "print(f\"Name: {zelenskyy_official.name}\\nTag:  {zelenskyy_official.tag}\\nPhoto:{zelenskyy_official._profile_photo}\")\n",
    "print(f\"Phone:{zelenskyy_official.__phone_number}\")"
   ],
   "metadata": {
    "id": "r9b3vJxBMSPV",
    "ExecuteTime": {
     "end_time": "2024-02-27T19:47:03.654806700Z",
     "start_time": "2024-02-27T19:47:03.588301700Z"
    }
   },
   "execution_count": 6,
   "outputs": [
    {
     "name": "stdout",
     "output_type": "stream",
     "text": [
      "Name: Володимир Зеленський\n",
      "Tag:  zelenskyy_official\n",
      "Photo:https://encrypted-tbn0.gstatic.com/licensed-image?q=tbn:ANd9GcRMhtQLV17Y8GVXGfmJCiklst_z4dG3hlCpMUN2WNNYNZHfQY7u49bzIZpMLbE_rFXANcfkZHE8Pr05fJ8\n",
      "Phone:095-040-20-19\n",
      "Name: Володимир Зеленський\n",
      "Tag:  zelenskyy_official\n",
      "Photo:https://encrypted-tbn0.gstatic.com/licensed-image?q=tbn:ANd9GcRMhtQLV17Y8GVXGfmJCiklst_z4dG3hlCpMUN2WNNYNZHfQY7u49bzIZpMLbE_rFXANcfkZHE8Pr05fJ8\n"
     ]
    },
    {
     "ename": "AttributeError",
     "evalue": "'MessangerUser' object has no attribute '__phone_number'",
     "output_type": "error",
     "traceback": [
      "\u001B[1;31m---------------------------------------------------------------------------\u001B[0m",
      "\u001B[1;31mAttributeError\u001B[0m                            Traceback (most recent call last)",
      "Cell \u001B[1;32mIn[6], line 20\u001B[0m\n\u001B[0;32m     17\u001B[0m \u001B[38;5;28mprint\u001B[39m(zelenskyy_official\u001B[38;5;241m.\u001B[39mget_user_info())\n\u001B[0;32m     19\u001B[0m \u001B[38;5;28mprint\u001B[39m(\u001B[38;5;124mf\u001B[39m\u001B[38;5;124m\"\u001B[39m\u001B[38;5;124mName: \u001B[39m\u001B[38;5;132;01m{\u001B[39;00mzelenskyy_official\u001B[38;5;241m.\u001B[39mname\u001B[38;5;132;01m}\u001B[39;00m\u001B[38;5;130;01m\\n\u001B[39;00m\u001B[38;5;124mTag:  \u001B[39m\u001B[38;5;132;01m{\u001B[39;00mzelenskyy_official\u001B[38;5;241m.\u001B[39mtag\u001B[38;5;132;01m}\u001B[39;00m\u001B[38;5;130;01m\\n\u001B[39;00m\u001B[38;5;124mPhoto:\u001B[39m\u001B[38;5;132;01m{\u001B[39;00mzelenskyy_official\u001B[38;5;241m.\u001B[39m_profile_photo\u001B[38;5;132;01m}\u001B[39;00m\u001B[38;5;124m\"\u001B[39m)\n\u001B[1;32m---> 20\u001B[0m \u001B[38;5;28mprint\u001B[39m(\u001B[38;5;124mf\u001B[39m\u001B[38;5;124m\"\u001B[39m\u001B[38;5;124mPhone:\u001B[39m\u001B[38;5;132;01m{\u001B[39;00m\u001B[43mzelenskyy_official\u001B[49m\u001B[38;5;241;43m.\u001B[39;49m\u001B[43m__phone_number\u001B[49m\u001B[38;5;132;01m}\u001B[39;00m\u001B[38;5;124m\"\u001B[39m)\n",
      "\u001B[1;31mAttributeError\u001B[0m: 'MessangerUser' object has no attribute '__phone_number'"
     ]
    }
   ]
  },
  {
   "cell_type": "markdown",
   "source": [
    "4. (7б). Як ви розумієте термін self? Для чого використовується метод __init __?"
   ],
   "metadata": {
    "id": "5op2m2vgMSkZ"
   }
  },
  {
   "cell_type": "markdown",
   "source": [
    "`self` представляє екземпляр класу. Це ключове слово дозволяє отримати доступ до змінних, атрибутів і методів визначеного класу в python. За допомогою `__init__()` надаються значення екземпляру класу через конструктор"
   ],
   "metadata": {
    "id": "DyiPqNRvMasx"
   }
  },
  {
   "cell_type": "markdown",
   "source": [
    "5. (9б). Створіть клас Фігура без атрибутів, з методом get_area для отримання площі фігури, що повертає 0 та __add __, який приймає self та other в якості аргументів, а повертає суму площин фігур self та other."
   ],
   "metadata": {
    "id": "-6X8EGfjMd2y"
   }
  },
  {
   "cell_type": "code",
   "source": [
    "class Figure:\n",
    "    def get_area(self):\n",
    "        return 0\n",
    "\n",
    "    def __add__(self, other):\n",
    "        return self.get_area() + other.get_area()\n",
    "\n",
    "\n",
    "f1 = Figure()\n",
    "f2 = Figure()\n",
    "\n",
    "print(f\"f1 area: {f1.get_area()}\\nf2 area: {f2.get_area()}\")\n",
    "\n",
    "area_sum = f1 + f2\n",
    "\n",
    "print(f\"area_sum: {area_sum}\")"
   ],
   "metadata": {
    "id": "4rvO_wYUMaEr",
    "ExecuteTime": {
     "end_time": "2024-02-27T19:47:05.815194800Z",
     "start_time": "2024-02-27T19:47:05.788209800Z"
    }
   },
   "execution_count": 7,
   "outputs": [
    {
     "name": "stdout",
     "output_type": "stream",
     "text": [
      "f1 area: 0\n",
      "f2 area: 0\n",
      "area_sum: 0\n"
     ]
    }
   ]
  },
  {
   "cell_type": "markdown",
   "source": [
    "6. (11б). Створіть 2 дочірніх класи від Фігури: Трикутник та Коло, які мають атрибути, необхідні для розрахунку площин. Визначте метод get_area в кожному з них так, щоби вони розраховували площу в залежності від формули для кожного типу фігури. Створіть обʼєкт класу Трикутник та обʼєкт класу Коло. Виконайте операцію суми за допомогою оператора + між ними."
   ],
   "metadata": {
    "id": "SFcKnnv5Mo_z"
   }
  },
  {
   "cell_type": "code",
   "source": [
    "from math import pi, sqrt\n",
    "\n",
    "\n",
    "class Triangle(Figure):\n",
    "    def __init__(self, side_a, side_b, side_c):\n",
    "        self.side_a: float = side_a\n",
    "        self.side_b: float = side_b\n",
    "        self.side_c: float = side_c\n",
    "\n",
    "    def get_area(self) -> float:\n",
    "        p = (self.side_a + self.side_b + self.side_c) / 2\n",
    "        return sqrt(p * (p - self.side_a) * (p - self.side_b) * (p - self.side_c))\n",
    "\n",
    "\n",
    "class Circle(Figure):\n",
    "    def __init__(self, radius):\n",
    "        self.radius: float = radius\n",
    "\n",
    "    def get_area(self) -> float:\n",
    "        return pi * self.radius ** 2\n",
    "\n",
    "\n",
    "triangle = Triangle(6, 8, 10)\n",
    "circle = Circle(2.5)\n",
    "\n",
    "area_sum = triangle + circle\n",
    "\n",
    "print(f\"{triangle.get_area()} + {circle.get_area()} = {area_sum}\")"
   ],
   "metadata": {
    "id": "H3GVNr69Muf3",
    "ExecuteTime": {
     "end_time": "2024-02-27T19:47:05.849275700Z",
     "start_time": "2024-02-27T19:47:05.820696700Z"
    }
   },
   "execution_count": 8,
   "outputs": [
    {
     "name": "stdout",
     "output_type": "stream",
     "text": [
      "24.0 + 19.634954084936208 = 43.63495408493621\n"
     ]
    }
   ]
  },
  {
   "cell_type": "markdown",
   "source": [
    "    "
   ],
   "metadata": {
    "collapsed": false
   }
  },
  {
   "cell_type": "markdown",
   "source": [
    "7. (3б). Продемонструйте різницю між isinstance та issubclass."
   ],
   "metadata": {
    "id": "HCvR206YMvLK"
   }
  },
  {
   "cell_type": "code",
   "source": [
    "print(issubclass(Figure, Triangle))\n",
    "print(isinstance(triangle, Triangle))\n",
    "\n",
    "print(issubclass(Triangle, Figure))\n",
    "print(isinstance(triangle, Figure))"
   ],
   "metadata": {
    "id": "L_V1bBvDM0GN",
    "ExecuteTime": {
     "end_time": "2024-02-27T19:47:05.867381300Z",
     "start_time": "2024-02-27T19:47:05.851275800Z"
    }
   },
   "execution_count": 9,
   "outputs": [
    {
     "name": "stdout",
     "output_type": "stream",
     "text": [
      "False\n",
      "True\n",
      "True\n",
      "True\n"
     ]
    }
   ]
  },
  {
   "cell_type": "markdown",
   "source": [
    "8. (13б). Створіть клас BankAccount з приватними атрибутами balance та account_number. Реалізуйте методи поповнення та зняття коштів, забезпечивши належну інкапсуляцію. Підказка: використовуйте декоратори property та setter."
   ],
   "metadata": {
    "id": "jjsaBZ-iM0Qq"
   }
  },
  {
   "cell_type": "code",
   "source": [
    "class BankAccount:\n",
    "    def __init__(self, balance, account_number):\n",
    "        self.__balance: float = balance\n",
    "        self.__account_number: str = account_number\n",
    "\n",
    "    @property\n",
    "    def balance(self):\n",
    "        return self.__balance\n",
    "\n",
    "    @balance.setter\n",
    "    def balance(self, balance):\n",
    "        self.__balance = balance\n",
    "\n",
    "    @property\n",
    "    def account_number(self):\n",
    "        return self.__account_number\n",
    "\n",
    "    @account_number.setter\n",
    "    def account_number(self, account_number):\n",
    "        self.__account_number = account_number\n",
    "\n",
    "    def __repr__(self):\n",
    "        return f\"balance - {self.__balance}, account_number - {self.__account_number}\"\n",
    "\n",
    "\n",
    "bank_user = BankAccount(15000, '1241253')\n",
    "print(bank_user)\n",
    "print(f\"user's id {bank_user.account_number}\")\n",
    "bank_user.balance = 14500\n",
    "print(bank_user)"
   ],
   "metadata": {
    "id": "xCvZ7lh8M7YA",
    "ExecuteTime": {
     "end_time": "2024-02-27T19:47:05.920299500Z",
     "start_time": "2024-02-27T19:47:05.871380700Z"
    }
   },
   "execution_count": 10,
   "outputs": [
    {
     "name": "stdout",
     "output_type": "stream",
     "text": [
      "balance - 15000, account_number - 1241253\n",
      "user's id 1241253\n",
      "balance - 14500, account_number - 1241253\n"
     ]
    }
   ]
  },
  {
   "cell_type": "markdown",
   "source": [
    "9. (11б). Створіть клас Library, який містить список об'єктів типу Book. Реалізуйте методи для додавання книги, видалення книги та відображення списку книг."
   ],
   "metadata": {
    "id": "tIzL2SJTM8ft"
   }
  },
  {
   "cell_type": "code",
   "source": [
    "class Book:\n",
    "    def __init__(self, name, author):\n",
    "        self.name = name\n",
    "        self.author = author\n",
    "\n",
    "    def __str__(self):\n",
    "        return f\"{self.author} - {self.name}\"\n",
    "\n",
    "\n",
    "class Library:\n",
    "    def __init__(self):\n",
    "        self.books = []\n",
    "\n",
    "    def add_book(self, book):\n",
    "        self.books.append(book)\n",
    "\n",
    "    def delete_book(self, name):\n",
    "        for book in self.books:\n",
    "            if book.name == name:\n",
    "                self.books.remove(book)\n",
    "                return\n",
    "        print(f\"unfortunately {name} wasn't found in the library\")\n",
    "\n",
    "    def all_books(self):\n",
    "        for book in self.books:\n",
    "            print(book)\n",
    "\n",
    "\n",
    "library = Library()\n",
    "\n",
    "book1 = Book(\"Book 1\", \"Author 1\")\n",
    "book2 = Book(\"Book 2\", \"Author 2\")\n",
    "\n",
    "library.add_book(book1)\n",
    "library.add_book(book2)\n",
    "\n",
    "library.all_books()\n",
    "\n",
    "library.delete_book(\"Book 1\")\n",
    "library.delete_book(\"Harry Potter\")\n",
    "\n",
    "library.all_books()"
   ],
   "metadata": {
    "id": "HWxfJKLtNAUZ",
    "ExecuteTime": {
     "end_time": "2024-02-27T19:47:05.957360Z",
     "start_time": "2024-02-27T19:47:05.924300600Z"
    }
   },
   "execution_count": 11,
   "outputs": [
    {
     "name": "stdout",
     "output_type": "stream",
     "text": [
      "Author 1 - Book 1\n",
      "Author 2 - Book 2\n",
      "unfortunately Harry Potter wasn't found in the library\n",
      "Author 2 - Book 2\n"
     ]
    }
   ]
  },
  {
   "cell_type": "markdown",
   "source": [
    "10. (13б). Створіть клас Person з атрибутами name та age. Створіть ще один клас Employee з такими атрибутами, як department та salary. Створіть клас Manager, який успадковує обидва класи Person та Employee. Продемонструйте використання множинної спадковості, створивши обʼєкт класу Manager та отримавши mro для цього класу."
   ],
   "metadata": {
    "id": "lmV8pAwwNIqu"
   }
  },
  {
   "cell_type": "code",
   "source": [
    "class Person:\n",
    "    def __init__(self, name, age):\n",
    "        self.name: str = name\n",
    "        self.age: int = age\n",
    "\n",
    "\n",
    "class Employee:\n",
    "    def __init__(self, department, salary):\n",
    "        self.department = department\n",
    "        self.salary = salary\n",
    "\n",
    "\n",
    "class Manager(Person, Employee):\n",
    "    def __init__(self, name, age, department, salary):\n",
    "        Person.__init__(self, name, age)\n",
    "        Employee.__init__(self, department, salary)\n",
    "\n",
    "\n",
    "manager = Manager(name=\"Bohdan\", age=69, department=\"CTO\", salary=200000)\n",
    "\n",
    "print(f\"Name: {manager.name}\")\n",
    "print(f\"Age: {manager.age}\")\n",
    "print(f\"Department: {manager.department}\")\n",
    "print(f\"Salary: {manager.salary}\")\n",
    "\n",
    "Manager.__mro__\n"
   ],
   "metadata": {
    "id": "R49grKlWNPeN",
    "ExecuteTime": {
     "end_time": "2024-02-27T19:47:05.992791500Z",
     "start_time": "2024-02-27T19:47:05.961358500Z"
    }
   },
   "execution_count": 12,
   "outputs": [
    {
     "name": "stdout",
     "output_type": "stream",
     "text": [
      "Name: Bohdan\n",
      "Age: 69\n",
      "Department: CTO\n",
      "Salary: 200000\n"
     ]
    },
    {
     "data": {
      "text/plain": "(__main__.Manager, __main__.Person, __main__.Employee, object)"
     },
     "execution_count": 12,
     "metadata": {},
     "output_type": "execute_result"
    }
   ]
  },
  {
   "cell_type": "markdown",
   "source": [
    "# II. Iterator"
   ],
   "metadata": {
    "id": "dIJyUiNBFG8G"
   }
  },
  {
   "cell_type": "markdown",
   "source": [
    "11. (4б). Визначте рядок(str) з 4ма різними за значенням символами. Створіть ітератор на основі цього рядка. Викличте 5 разів функцію next на ітераторі, 4ри перших з них огорніть у ф-цію print()."
   ],
   "metadata": {
    "id": "13vsm0NyKIzL"
   }
  },
  {
   "cell_type": "code",
   "source": [
    "what = \"what\"\n",
    "\n",
    "what_iter = iter(what)\n",
    "\n",
    "print(next(what_iter))\n",
    "print(next(what_iter))\n",
    "print(next(what_iter))\n",
    "print(next(what_iter))\n",
    "print(next(what_iter))"
   ],
   "metadata": {
    "id": "81ntabAkKuz-",
    "ExecuteTime": {
     "end_time": "2024-02-27T19:47:06.035369400Z",
     "start_time": "2024-02-27T19:47:05.992791500Z"
    }
   },
   "execution_count": 13,
   "outputs": [
    {
     "name": "stdout",
     "output_type": "stream",
     "text": [
      "w\n",
      "h\n",
      "a\n",
      "t\n"
     ]
    },
    {
     "ename": "StopIteration",
     "evalue": "",
     "output_type": "error",
     "traceback": [
      "\u001B[1;31m---------------------------------------------------------------------------\u001B[0m",
      "\u001B[1;31mStopIteration\u001B[0m                             Traceback (most recent call last)",
      "Cell \u001B[1;32mIn[13], line 9\u001B[0m\n\u001B[0;32m      7\u001B[0m \u001B[38;5;28mprint\u001B[39m(\u001B[38;5;28mnext\u001B[39m(what_iter))\n\u001B[0;32m      8\u001B[0m \u001B[38;5;28mprint\u001B[39m(\u001B[38;5;28mnext\u001B[39m(what_iter))\n\u001B[1;32m----> 9\u001B[0m \u001B[38;5;28mprint\u001B[39m(\u001B[38;5;28;43mnext\u001B[39;49m\u001B[43m(\u001B[49m\u001B[43mwhat_iter\u001B[49m\u001B[43m)\u001B[49m)\n",
      "\u001B[1;31mStopIteration\u001B[0m: "
     ]
    }
   ]
  },
  {
   "cell_type": "markdown",
   "source": [
    "А що якщо викликати цю ж функцію на рядку?"
   ],
   "metadata": {
    "id": "aekWHGXOLRsO"
   }
  },
  {
   "cell_type": "code",
   "source": [
    "next(what)"
   ],
   "metadata": {
    "id": "mxATGsErLV1i",
    "ExecuteTime": {
     "start_time": "2024-02-27T19:47:06.034862600Z"
    }
   },
   "execution_count": 14,
   "outputs": [
    {
     "ename": "TypeError",
     "evalue": "'str' object is not an iterator",
     "output_type": "error",
     "traceback": [
      "\u001B[1;31m---------------------------------------------------------------------------\u001B[0m",
      "\u001B[1;31mTypeError\u001B[0m                                 Traceback (most recent call last)",
      "Cell \u001B[1;32mIn[14], line 1\u001B[0m\n\u001B[1;32m----> 1\u001B[0m \u001B[38;5;28;43mnext\u001B[39;49m\u001B[43m(\u001B[49m\u001B[43mwhat\u001B[49m\u001B[43m)\u001B[49m\n",
      "\u001B[1;31mTypeError\u001B[0m: 'str' object is not an iterator"
     ]
    }
   ]
  },
  {
   "cell_type": "markdown",
   "source": [
    " 12. (5б). Опишіть своїми словами в одному реченні, як ви розумієте різницю між ітерабельними обʼєктами та ітераторами (можна на прикладі)."
   ],
   "metadata": {
    "id": "XwtMEopwJ4pH"
   }
  },
  {
   "cell_type": "markdown",
   "source": [
    "По ітерабильному об'єкту можна ітеруватися (for in наприклад використовувати), коли в ітераторі зберігає в буфері стан ітерації, до моменту поки ми не викличемо `__next__()` для переходу на наступний стан і по ньому можна пробігатися лише один раз, бо коли ми досягаємо `raise StopIteration`, то треба переініціалізовувати екземпляр об'єкту"
   ],
   "metadata": {
    "id": "-sHrODc3KFn8"
   }
  },
  {
   "cell_type": "markdown",
   "source": [
    "13. (11б). Створіть клас, що має визначений Iterator Protocol та при кожному виклику next повертає літери англійської абетки, поки вони не вичерпаються."
   ],
   "metadata": {
    "id": "E9qJWmNbK8Gl"
   }
  },
  {
   "cell_type": "code",
   "source": [
    "class Alphabet:\n",
    "    def __init__(self):\n",
    "        self.__alphabet: str = \"abcdefghijklmnopqrstuvwxyz\"\n",
    "        self.__index = 0\n",
    "\n",
    "    def __iter__(self):\n",
    "        return self\n",
    "\n",
    "    def __next__(self):\n",
    "        if self.__index < len(self.__alphabet):\n",
    "            item = self.__alphabet[self.__index]\n",
    "            self.__index += 1\n",
    "            return item\n",
    "        else:\n",
    "            raise StopIteration\n",
    "        \n",
    "alphabet = Alphabet()\n",
    "\n",
    "letters_sequence = iter(alphabet)\n",
    "\n",
    "for letter in letters_sequence:\n",
    "    print(letter)"
   ],
   "metadata": {
    "id": "cqx-g_RsLo6I",
    "ExecuteTime": {
     "end_time": "2024-02-27T19:47:39.122424800Z",
     "start_time": "2024-02-27T19:47:39.114927200Z"
    }
   },
   "execution_count": 15,
   "outputs": [
    {
     "name": "stdout",
     "output_type": "stream",
     "text": [
      "a\n",
      "b\n",
      "c\n",
      "d\n",
      "e\n",
      "f\n",
      "g\n",
      "h\n",
      "i\n",
      "j\n",
      "k\n",
      "l\n",
      "m\n",
      "n\n",
      "o\n",
      "p\n",
      "q\n",
      "r\n",
      "s\n",
      "t\n",
      "u\n",
      "v\n",
      "w\n",
      "x\n",
      "y\n",
      "z\n"
     ]
    }
   ]
  },
  {
   "cell_type": "markdown",
   "source": [
    "# Вітаю! Ви велика(ий) молодець, що впоралась(вся). Похваліть себе та побалуйте чимось приємним. Я Вами пишаюся."
   ],
   "metadata": {
    "id": "Z3E3S_s1Fv7-"
   }
  },
  {
   "cell_type": "code",
   "outputs": [],
   "source": [],
   "metadata": {
    "collapsed": false,
    "ExecuteTime": {
     "end_time": "2024-02-27T19:47:06.151258700Z",
     "start_time": "2024-02-27T19:47:06.092724300Z"
    }
   },
   "execution_count": 14
  }
 ]
}
