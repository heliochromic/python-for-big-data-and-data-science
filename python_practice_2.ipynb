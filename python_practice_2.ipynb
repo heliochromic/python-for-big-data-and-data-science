{
 "nbformat": 4,
 "nbformat_minor": 0,
 "metadata": {
  "colab": {
   "provenance": []
  },
  "kernelspec": {
   "name": "python3",
   "language": "python",
   "display_name": "Python 3 (ipykernel)"
  },
  "language_info": {
   "name": "python"
  }
 },
 "cells": [
  {
   "cell_type": "markdown",
   "source": [
    "# I. Змінні та памʼять."
   ],
   "metadata": {
    "id": "p9wwt0LZzNvn"
   }
  },
  {
   "cell_type": "markdown",
   "source": [
    "1. Створити змінні, що посилаються на два цілих числа, що однакові за значенням, де значення належить проміжку від -5 до 256. Перевірте, чи будуть ці змінні рівні тільки за значенням або ж ще будуть посилатися на один і той самий обʼєкт в памʼяті? Наведіть код та дайте текстову відповідь нижче."
   ],
   "metadata": {
    "id": "HTJrrm95xSV9"
   }
  },
  {
   "cell_type": "code",
   "execution_count": 1,
   "metadata": {
    "id": "TATni2vzayjG",
    "ExecuteTime": {
     "end_time": "2024-02-06T20:31:05.572381900Z",
     "start_time": "2024-02-06T20:31:05.444566900Z"
    }
   },
   "outputs": [
    {
     "name": "stdout",
     "output_type": "stream",
     "text": [
      "a == b -> True\n",
      "a is b -> True\n"
     ]
    }
   ],
   "source": [
    "a = 69\n",
    "b = 69\n",
    "\n",
    "print(f\"a == b -> {a == b}\")\n",
    "print(f\"a is b -> {a is b}\")"
   ]
  },
  {
   "cell_type": "markdown",
   "source": [
    "в пайтоні цілі значення в діапазоні між -5 i 256 зарезервовані для оптимізації, тому коли ми присвоюємо змінній число в цих межах, то воно посилається на один кешований об'єкт, коли ми виходимо ха ці межі, то числа будуть створювати різні унікальні об'єкти"
   ],
   "metadata": {
    "id": "zfRG_o3WbRdg"
   }
  },
  {
   "cell_type": "markdown",
   "source": [
    "2. За допомогою якої функції можна перевірити належність змінної до вказаного типу даних (напр. чи змінна True посилається на значення булевого та цілочисленого типу)?"
   ],
   "metadata": {
    "id": "ISORzt6M3vAt"
   }
  },
  {
   "cell_type": "code",
   "source": [
    "isinstance(a, (int, bool))"
   ],
   "metadata": {
    "id": "9vL9CFaMbfyo",
    "ExecuteTime": {
     "end_time": "2024-02-06T20:31:05.613657500Z",
     "start_time": "2024-02-06T20:31:05.465845200Z"
    }
   },
   "execution_count": 2,
   "outputs": [
    {
     "data": {
      "text/plain": "True"
     },
     "execution_count": 2,
     "metadata": {},
     "output_type": "execute_result"
    }
   ]
  },
  {
   "cell_type": "markdown",
   "source": [
    "# II. Цілі числа та числа з рухомою комою"
   ],
   "metadata": {
    "id": "tRxugKAxwYLw"
   }
  },
  {
   "cell_type": "markdown",
   "source": [
    "3. Створити дві змінні, що посилаються на будь-які ціле число та число з рухомою комою та продемонструвати такі арифметичні операції: додавання, віднімання, ділення, множення, ділення без залишку, ділення по модулю, приведення до ступеню. Всі результати операцій вивести на екран."
   ],
   "metadata": {
    "id": "NLHkgd5Gybc8"
   }
  },
  {
   "cell_type": "code",
   "source": [
    "c = 14.5\n",
    "d = 3\n",
    "print(f\"addition:        {c + d}\\n\"\n",
    "      f\"subtraction:     {c - d}\\n\"\n",
    "      f\"division:        {c / d}\\n\"\n",
    "      f\"multiplication:  {c * d}\\n\"\n",
    "      f\"floor division:  {c // d}\\n\"\n",
    "      f\"module division: {c % d}\\n\"\n",
    "      f\"power of 2:      {c ** 2}\")"
   ],
   "metadata": {
    "id": "nb8u_3pjb2cA",
    "ExecuteTime": {
     "end_time": "2024-02-06T20:31:05.620588Z",
     "start_time": "2024-02-06T20:31:05.476011300Z"
    }
   },
   "execution_count": 3,
   "outputs": [
    {
     "name": "stdout",
     "output_type": "stream",
     "text": [
      "addition:        17.5\n",
      "subtraction:     11.5\n",
      "division:        4.833333333333333\n",
      "multiplication:  43.5\n",
      "floor division:  4.0\n",
      "module division: 2.5\n",
      "power of 2:      210.25\n"
     ]
    }
   ]
  },
  {
   "cell_type": "markdown",
   "source": [
    "4. Використовуючи змінні з вправи 3, продемонструйте механізм явного перетворення типів, де числа з рухомою комою перетворюються на цілі числа. Також визначте змінну, що посилається на значення булевого типу і спробуйте явно привести її до цілого числа."
   ],
   "metadata": {
    "id": "1kBClKgPzZnC"
   }
  },
  {
   "cell_type": "code",
   "source": [
    "float_c = int(c)\n",
    "\n",
    "boolean_var = True\n",
    "boolean_to_int = int(boolean_var)"
   ],
   "metadata": {
    "id": "TbqJbkeUcKsD",
    "ExecuteTime": {
     "end_time": "2024-02-06T20:31:05.625019Z",
     "start_time": "2024-02-06T20:31:05.493404800Z"
    }
   },
   "execution_count": 4,
   "outputs": []
  },
  {
   "cell_type": "markdown",
   "source": [
    "# IІІ. Рядки (String)."
   ],
   "metadata": {
    "id": "EVJ7AflwxrZi"
   }
  },
  {
   "cell_type": "markdown",
   "source": [
    "5. Створити пустий рядок двома різними способами."
   ],
   "metadata": {
    "id": "_s5ECzz9zE61"
   }
  },
  {
   "cell_type": "code",
   "source": [
    "string_1 = ''\n",
    "string_2 = str()\n",
    "string_2, string_2"
   ],
   "metadata": {
    "collapsed": false,
    "ExecuteTime": {
     "end_time": "2024-02-06T20:31:05.978477600Z",
     "start_time": "2024-02-06T20:31:05.617026100Z"
    }
   },
   "execution_count": 5,
   "outputs": [
    {
     "data": {
      "text/plain": "('', '')"
     },
     "execution_count": 5,
     "metadata": {},
     "output_type": "execute_result"
    }
   ]
  },
  {
   "cell_type": "markdown",
   "source": [
    "6. Створити рядок з апострофом. Зробити його сирим. Вивести обидва рядка на екран."
   ],
   "metadata": {
    "id": "4Bdn9J3MzLf_"
   }
  },
  {
   "cell_type": "code",
   "source": [
    "string_with_apostrophe = r'random \\' stuff with apostrophe'\n",
    "print(string_with_apostrophe)"
   ],
   "metadata": {
    "id": "ivji_hsmc0GH",
    "ExecuteTime": {
     "end_time": "2024-02-11T21:25:19.751139900Z",
     "start_time": "2024-02-11T21:25:19.737987800Z"
    }
   },
   "execution_count": 1,
   "outputs": [
    {
     "name": "stdout",
     "output_type": "stream",
     "text": [
      "random \\' stuff with apostrophe\n"
     ]
    }
   ]
  },
  {
   "cell_type": "markdown",
   "source": [
    "7. Створити змінну, що буде посилатися на Ваше прізвище латинкою. Створити форматований рядок, який буде мати вигляд \"My surname is ______\", де на місці нижніх підкреслень буде Ваше прізвище зі змінної."
   ],
   "metadata": {
    "id": "bg_d8wM4z8dS"
   }
  },
  {
   "cell_type": "code",
   "source": [
    "surname = 'Prokhorov'\n",
    "print(f'My surname is {surname}')"
   ],
   "metadata": {
    "id": "kuxFgpWndACq",
    "ExecuteTime": {
     "end_time": "2024-02-06T20:31:06.398780700Z",
     "start_time": "2024-02-06T20:31:06.055766700Z"
    }
   },
   "execution_count": 7,
   "outputs": [
    {
     "name": "stdout",
     "output_type": "stream",
     "text": [
      "My surname is Prokhorov\n"
     ]
    }
   ]
  },
  {
   "cell_type": "markdown",
   "source": [
    "8. Маючи рядок \"My dog is crazy.\" перетворити його на список [\"my\", \"dog\", \"is\", \"crazy\"]"
   ],
   "metadata": {
    "id": "1Nc6RqvQ0hxU"
   }
  },
  {
   "cell_type": "code",
   "source": [
    "string = \"My dog is crazy.\"\n",
    "r_list = [word.strip('.').lower() for word in string.split(' ')]\n",
    "print(r_list)"
   ],
   "metadata": {
    "id": "w1Ya4RqedUhw",
    "ExecuteTime": {
     "end_time": "2024-02-06T20:31:06.501850400Z",
     "start_time": "2024-02-06T20:31:06.402254Z"
    }
   },
   "execution_count": 8,
   "outputs": [
    {
     "name": "stdout",
     "output_type": "stream",
     "text": [
      "['my', 'dog', 'is', 'crazy']\n"
     ]
    }
   ]
  },
  {
   "cell_type": "markdown",
   "source": [
    "# IV. Робота зі списками."
   ],
   "metadata": {
    "id": "GYVqN9uP1D4n"
   }
  },
  {
   "cell_type": "markdown",
   "source": [
    "9. Створити список двома різними за синтаксисом способами. За допомогою вбудованої функції обчисліть довжину одного з них."
   ],
   "metadata": {
    "id": "7-DeDunw2sO-"
   }
  },
  {
   "cell_type": "code",
   "source": [
    "list_1 = list(range(10))\n",
    "list_2 = ['hello', 'world', 'lorem', 'ipsum']\n",
    "len(list_1)"
   ],
   "metadata": {
    "id": "zxg06Uuxdyoh",
    "ExecuteTime": {
     "end_time": "2024-02-06T20:31:06.632137500Z",
     "start_time": "2024-02-06T20:31:06.468225800Z"
    }
   },
   "execution_count": 9,
   "outputs": [
    {
     "data": {
      "text/plain": "10"
     },
     "execution_count": 9,
     "metadata": {},
     "output_type": "execute_result"
    }
   ]
  },
  {
   "cell_type": "markdown",
   "source": [
    "10. Створіть два списка та за допомогою спеціального методу додайте другий з них в якості останнього елемента першого."
   ],
   "metadata": {
    "id": "8vmGUTjL22gI"
   }
  },
  {
   "cell_type": "code",
   "source": [
    "list_3 = [1, 2, 3]\n",
    "list_4 = [1, 2, 3]\n",
    "list_3.extend(list_4)\n",
    "list_3"
   ],
   "metadata": {
    "id": "uHtjWYw7d7hm",
    "ExecuteTime": {
     "end_time": "2024-02-06T20:31:06.775110600Z",
     "start_time": "2024-02-06T20:31:06.601256900Z"
    }
   },
   "execution_count": 10,
   "outputs": [
    {
     "data": {
      "text/plain": "[1, 2, 3, 1, 2, 3]"
     },
     "execution_count": 10,
     "metadata": {},
     "output_type": "execute_result"
    }
   ]
  },
  {
   "cell_type": "markdown",
   "source": [
    "11. Створіть список, де елементами цього списку також є списки. Отримай перший елемент з останнього рядка та виведи значення на екран."
   ],
   "metadata": {
    "id": "JC3BkD-67_--"
   }
  },
  {
   "cell_type": "code",
   "source": [
    "matrix = [\n",
    "    [1, 2, 3],\n",
    "    [4, 5, 6],\n",
    "    [7, 8, 9]\n",
    "]\n",
    "matrix[-1][0]"
   ],
   "metadata": {
    "id": "Kz2jZHsGeLlz",
    "ExecuteTime": {
     "end_time": "2024-02-06T20:31:06.946211200Z",
     "start_time": "2024-02-06T20:31:06.757787600Z"
    }
   },
   "execution_count": 11,
   "outputs": [
    {
     "data": {
      "text/plain": "7"
     },
     "execution_count": 11,
     "metadata": {},
     "output_type": "execute_result"
    }
   ]
  },
  {
   "cell_type": "markdown",
   "source": [
    "12. Створіть список з десяти елементів різного типу. Отримайте всі елементи, окрім двох перших та двох останніх та збережіть їх в новій змінній."
   ],
   "metadata": {
    "id": "JA47PKTv8zFK"
   }
  },
  {
   "cell_type": "code",
   "source": [
    "diff_list = ['Lorem', 12, True, 6.9, \"information\", 'foo', 'bar', complex(1, 1), 1, 10]\n",
    "sliced_list = diff_list[2:-2]\n",
    "sliced_list"
   ],
   "metadata": {
    "id": "_rHdUR-ueP4-",
    "ExecuteTime": {
     "end_time": "2024-02-06T20:31:06.974527700Z",
     "start_time": "2024-02-06T20:31:06.923168Z"
    }
   },
   "execution_count": 12,
   "outputs": [
    {
     "data": {
      "text/plain": "[True, 6.9, 'information', 'foo', 'bar', (1+1j)]"
     },
     "execution_count": 12,
     "metadata": {},
     "output_type": "execute_result"
    }
   ]
  },
  {
   "cell_type": "markdown",
   "source": [
    "# V. Робота з кортежами."
   ],
   "metadata": {
    "id": "pCjR1dJb1Qbi"
   }
  },
  {
   "cell_type": "markdown",
   "source": [
    "14. Створити кортеж з один елементом."
   ],
   "metadata": {
    "id": "fAZCxAX06R_k"
   }
  },
  {
   "cell_type": "code",
   "source": [
    "tuple_1 = (-5,)\n",
    "tuple_1"
   ],
   "metadata": {
    "id": "H7d82WkQev3e",
    "ExecuteTime": {
     "end_time": "2024-02-06T20:31:07.125738Z",
     "start_time": "2024-02-06T20:31:06.979937900Z"
    }
   },
   "execution_count": 13,
   "outputs": [
    {
     "data": {
      "text/plain": "(-5,)"
     },
     "execution_count": 13,
     "metadata": {},
     "output_type": "execute_result"
    }
   ]
  },
  {
   "cell_type": "markdown",
   "source": [
    "15. Порівняйте список та кортеж. Назвіть схожості та відмінності, випадки використання."
   ],
   "metadata": {
    "id": "8LCtYcmI6w1M"
   }
  },
  {
   "cell_type": "markdown",
   "source": [
    "Найбільшою різницеб структур даних як `tuple()` та `list()` є те що tuple - незмінний тип даних, коли list змінний. \n",
    "\n",
    "На перевагу tuple можна сказати, що він більш швидкий за list та займає менше місця. \n",
    "\n",
    "Через те що tuple не може модифікуватися, він є ідеальний варіантом для зберігання інформації, яка не повинна змінюватися, наприклад, параметрів налаштувань, постійних значень або іншої інформації, яка повинна залишатися незмінною під час роботи вашої програми.\n",
    "\n",
    "Список треба для всіх операцій зі зміною значень, збільшення розміру списку і тд\n"
   ],
   "metadata": {
    "id": "fUsN1Hnue0C6"
   }
  },
  {
   "cell_type": "markdown",
   "source": [
    "16. Створіть кортеж з 11ти елементів чисел з рухомою комою та отримайте кожен парний за індексом елемент в зворотньому порядку. Наприклад, маючи (1.2, 2.3, 3.3, 4.3, 5.3, 6.3, 7.3, 8.3, 9.3, 0.3), отримати (0.3, 8.3, 6.3, 4.3, 2.3). Результат збережіть в нову змінну та виведіть на екран."
   ],
   "metadata": {
    "id": "m0xrwFijAmDD"
   }
  },
  {
   "cell_type": "code",
   "source": [
    "example_tuple = (1.2, 2.3, 3.3, 4.3, 5.3, 6.3, 7.3, 8.3, 9.3, 0.3)\n",
    "new_example_tuple = example_tuple[::-2]\n",
    "\n",
    "new_example_tuple"
   ],
   "metadata": {
    "id": "p-5DAH6XfAGA",
    "ExecuteTime": {
     "end_time": "2024-02-06T20:31:07.228583700Z",
     "start_time": "2024-02-06T20:31:07.103471700Z"
    }
   },
   "execution_count": 14,
   "outputs": [
    {
     "data": {
      "text/plain": "(0.3, 8.3, 6.3, 4.3, 2.3)"
     },
     "execution_count": 14,
     "metadata": {},
     "output_type": "execute_result"
    }
   ]
  },
  {
   "cell_type": "markdown",
   "source": [
    "# VI. Множини (Set)."
   ],
   "metadata": {
    "id": "rW_I9dt3x6cW"
   }
  },
  {
   "cell_type": "markdown",
   "source": [
    "17. Створити множину без елементів. Після цого за допомогою методу додайте кілька різних елементів до множини. Чи множини є змінним типом даних?"
   ],
   "metadata": {
    "id": "zNjRLHLw1Bgg"
   }
  },
  {
   "cell_type": "code",
   "source": [
    "random_set = set()\n",
    "\n",
    "random_set.add(\"slava ukraini\")\n",
    "random_set.add(1)\n",
    "random_set.add(1)\n",
    "random_set.add(-69)\n",
    "random_set.add(100)\n",
    "\n",
    "print(random_set)"
   ],
   "metadata": {
    "id": "KOv7zc2Kfo4N",
    "ExecuteTime": {
     "end_time": "2024-02-06T20:31:07.298789900Z",
     "start_time": "2024-02-06T20:31:07.210818200Z"
    }
   },
   "execution_count": 15,
   "outputs": [
    {
     "name": "stdout",
     "output_type": "stream",
     "text": [
      "{1, 'slava ukraini', -69, 100}\n"
     ]
    }
   ]
  },
  {
   "cell_type": "markdown",
   "source": [
    "Так, множини є зміним типом даних"
   ],
   "metadata": {
    "id": "vxS6dVYiftZQ"
   }
  },
  {
   "cell_type": "markdown",
   "source": [
    "18. Створити множину, маючи список my_list = [1, 1, 2, 67, 67, 8, 9]. Пояснити, чому \"зникли\" деякі елементи."
   ],
   "metadata": {
    "id": "gHpT0Zw_1HEF"
   }
  },
  {
   "cell_type": "code",
   "source": [
    "my_list = [1, 1, 2, 67, 67, 8, 9]\n",
    "\n",
    "my_set = set(my_list)\n",
    "\n",
    "my_set"
   ],
   "metadata": {
    "id": "qCN4uvJ_fxmu",
    "ExecuteTime": {
     "end_time": "2024-02-06T20:31:07.448187300Z",
     "start_time": "2024-02-06T20:31:07.304373400Z"
    }
   },
   "execution_count": 16,
   "outputs": [
    {
     "data": {
      "text/plain": "{1, 2, 8, 9, 67}"
     },
     "execution_count": 16,
     "metadata": {},
     "output_type": "execute_result"
    }
   ]
  },
  {
   "cell_type": "markdown",
   "source": [
    "Оскільки в імплементації `set()` лежить hash таблиця, то якщо при вставці елемент вже існує, то він туди не додається, тому множини зберігають лише унікальні значення"
   ],
   "metadata": {
    "id": "tFNc1e20fyny"
   }
  },
  {
   "cell_type": "markdown",
   "source": [
    "19. Створіть дві множини. Продемонстуйте над ними операції: обʼєднання, різниці, пересічі та симетричної різниці. Використовуйте методи, що не змінюють множини, а створюють нові."
   ],
   "metadata": {
    "id": "SRMkGizS1UwY"
   }
  },
  {
   "cell_type": "code",
   "source": [
    "set1 = {1, 2, 3, 4, 5}\n",
    "set2 = {4, 5, 6, 7, 8}\n",
    "\n",
    "set1.union(set2), set1.difference(set2), set1.intersection(set2), set1.symmetric_difference(set2)"
   ],
   "metadata": {
    "id": "h0T-VuDnf3Ri",
    "ExecuteTime": {
     "end_time": "2024-02-06T20:31:07.535537300Z",
     "start_time": "2024-02-06T20:31:07.427550300Z"
    }
   },
   "execution_count": 17,
   "outputs": [
    {
     "data": {
      "text/plain": "({1, 2, 3, 4, 5, 6, 7, 8}, {1, 2, 3}, {4, 5}, {1, 2, 3, 6, 7, 8})"
     },
     "execution_count": 17,
     "metadata": {},
     "output_type": "execute_result"
    }
   ]
  },
  {
   "cell_type": "markdown",
   "source": [
    "# VII. Словники (Dictionary)."
   ],
   "metadata": {
    "id": "kWc8gkzTx7Ea"
   }
  },
  {
   "cell_type": "markdown",
   "source": [
    "20. Створіть пустий словник. До нього додайте чотири пари елементів такі, щоб їхні ключі були різних типів. Чи може список бути ключем? Чому?"
   ],
   "metadata": {
    "id": "i5FLwj-B2ybQ"
   }
  },
  {
   "cell_type": "code",
   "source": [
    "random_dict = dict()\n",
    "\n",
    "random_dict[1] = \"pes patron\"\n",
    "# random_dict[[-10, 12, 0]] = 1000\n",
    "random_dict['hello'] = 'world'\n",
    "random_dict['\\n'] = True\n",
    "random_dict[\"2\"] = 2\n",
    "\n",
    "random_dict"
   ],
   "metadata": {
    "id": "hxgv3BzrgLAV",
    "ExecuteTime": {
     "end_time": "2024-02-06T20:31:07.748532900Z",
     "start_time": "2024-02-06T20:31:07.546096Z"
    }
   },
   "execution_count": 18,
   "outputs": [
    {
     "data": {
      "text/plain": "{1: 'pes patron', 'hello': 'world', '\\n': True, '2': 2}"
     },
     "execution_count": 18,
     "metadata": {},
     "output_type": "execute_result"
    }
   ]
  },
  {
   "cell_type": "markdown",
   "source": [
    "Якщо ми покладемо змінний тип даних, як `list()`, то для нього неможливо буде порахувати хеш, бо в основі `dict()` лежить хеш таблиця для пошуку елементів за ключами\n",
    "\n",
    "і ми отримаємо помилку `TypeError: unhashable type: 'list'`"
   ],
   "metadata": {
    "id": "zwa7UVN-gR3m"
   }
  },
  {
   "cell_type": "markdown",
   "source": [
    "21. Створіть словник, де значенням в одній з пар теж буде словник, який теж має вкладений словник. Виведіть на екран значення, що міститься в словнику, що знаходиться на найнижчому рівні ієрархії вкладеності (найбільш внутрішній)."
   ],
   "metadata": {
    "id": "WM_pMlJsgoNf"
   }
  },
  {
   "cell_type": "code",
   "source": [
    "university_programs = {\n",
    "    \"ФГН\": {\n",
    "        \"Історія та археологія\": {\n",
    "            \"Загальна інформація\": \"\",\n",
    "            \"Дисципліни\": \"asdfasdf\",\n",
    "            \"НМТ\": \"123\",\n",
    "            \"Вартість\": \"121k\",\n",
    "            \"Кількість місць\": \"h11 \",\n",
    "            \"Коефіцієнти\": {\n",
    "                \"Українська мова\": \"0.25\",\n",
    "                \"Математика\": \"0.25\",\n",
    "                \"Історія України\": \"0.5\",\n",
    "                \"Іноземна мова\": \"0.5\",\n",
    "                \"Біологія\": \"0.2\",\n",
    "                \"Фізика\": \"0.2\",\n",
    "                \"Хімія\": \"0.2\",\n",
    "                \"Українська література\": \"0.25\",\n",
    "                \"Географія\": \"0.25\"\n",
    "            },\n",
    "            \"Прохідний бал\": \"\",\n",
    "            \"Сайт спеціальності\": \"\",\n",
    "            \"Сайт конкурс\": \"\"\n",
    "        },\n",
    "        \"Філософія\": {\n",
    "            \"Загальна інформація\": \"suka\",\n",
    "            \"Дисципліни\": \"debil\",\n",
    "            \"НМТ\": \"69\",\n",
    "            \"Вартість\": \"\",\n",
    "            \"Кількість місць\": \"\",\n",
    "            \"Коефіцієнти\": {\n",
    "                \"Українська мова\": \"0.35\",\n",
    "                \"Математика\": \"0.25\",\n",
    "                \"Історія України\": \"0.4\",\n",
    "                \"Іноземна мова\": \"0.4\",\n",
    "                \"Біологія\": \"0.2\",\n",
    "                \"Фізика\": \"0.2\",\n",
    "                \"Хімія\": \"0.2\",\n",
    "                \"Українська література\": \"0.35\",\n",
    "                \"Географія\": \"0.25\"\n",
    "            },\n",
    "            \"Прохідний бал\": \"\",\n",
    "            \"Сайт спеціальності\": \"\",\n",
    "            \"Сайт конкурс\": \"\"\n",
    "        }\n",
    "    }\n",
    "}\n",
    "\n",
    "university_programs['ФГН']['Історія та археологія']['Коефіцієнти']['Українська мова']"
   ],
   "metadata": {
    "id": "60dlP7IHhAy4",
    "ExecuteTime": {
     "end_time": "2024-02-06T20:31:07.787388300Z",
     "start_time": "2024-02-06T20:31:07.610622100Z"
    }
   },
   "execution_count": 19,
   "outputs": [
    {
     "data": {
      "text/plain": "'0.25'"
     },
     "execution_count": 19,
     "metadata": {},
     "output_type": "execute_result"
    }
   ]
  },
  {
   "cell_type": "markdown",
   "source": [
    "# Вітаю! Ви велика(ий) молодець, що впоралась(вся). Похваліть себе та побалуйте чимось приємним. Я Вами пишаюся."
   ],
   "metadata": {
    "id": "xOZP0hkx6cCr"
   }
  }
 ]
}
